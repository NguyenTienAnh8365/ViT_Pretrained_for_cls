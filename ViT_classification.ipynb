{
 "cells": [
  {
   "cell_type": "code",
   "execution_count": null,
   "id": "HfCXq1dtW2LZ",
   "metadata": {
    "colab": {
     "base_uri": "https://localhost:8080/"
    },
    "executionInfo": {
     "elapsed": 18285,
     "status": "ok",
     "timestamp": 1753376088087,
     "user": {
      "displayName": "Anh-cs3-8365 Nguyễn Tiến",
      "userId": "07872704871188704138"
     },
     "user_tz": -420
    },
    "id": "HfCXq1dtW2LZ",
    "outputId": "a0754cdc-0210-47f4-c945-eaf105976aea"
   },
   "outputs": [
    {
     "name": "stdout",
     "output_type": "stream",
     "text": [
      "Mounted at /content/drive\n"
     ]
    }
   ],
   "source": [
    "# Mount Google Drive (chỉ dùng khi chạy trên Google Colab)\n",
    "from google.colab import drive\n",
    "drive.mount('/content/drive')"
   ]
  },
  {
   "cell_type": "code",
   "execution_count": null,
   "id": "c1268ee2",
   "metadata": {
    "executionInfo": {
     "elapsed": 8910,
     "status": "ok",
     "timestamp": 1753372206325,
     "user": {
      "displayName": "Anh-cs3-8365 Nguyễn Tiến",
      "userId": "07872704871188704138"
     },
     "user_tz": -420
    },
    "id": "c1268ee2"
   },
   "outputs": [],
   "source": [
    "# Cài đặt nhanh các thư viện cần thiết (chỉ dùng trên Colab)\n",
    "!pip install -q transformers datasets"
   ]
  },
  {
   "cell_type": "markdown",
   "id": "lWlbnyy2ZlKr",
   "metadata": {
    "id": "lWlbnyy2ZlKr"
   },
   "source": [
    "### **1. Preprocessing the data**"
   ]
  },
  {
   "cell_type": "code",
   "execution_count": null,
   "id": "1af2de9d",
   "metadata": {
    "executionInfo": {
     "elapsed": 270,
     "status": "ok",
     "timestamp": 1753372206585,
     "user": {
      "displayName": "Anh-cs3-8365 Nguyễn Tiến",
      "userId": "07872704871188704138"
     },
     "user_tz": -420
    },
    "id": "1af2de9d"
   },
   "outputs": [],
   "source": [
    "# Tiền xử lý: Khởi tạo ViTImageProcessor để lấy thông số chuẩn hóa ảnh\n",
    "from transformers import ViTImageProcessor\n",
    "\n",
    "feature_extractor = ViTImageProcessor.from_pretrained(\"google/vit-base-patch16-224-in21k\")\n",
    "\n",
    "image_mean = feature_extractor.image_mean\n",
    "image_std = feature_extractor.image_std\n",
    "image_height = feature_extractor.size[\"height\"]\n",
    "image_width = feature_extractor.size[\"width\"]"
   ]
  },
  {
   "cell_type": "code",
   "execution_count": null,
   "id": "4c6997b5",
   "metadata": {
    "colab": {
     "base_uri": "https://localhost:8080/"
    },
    "executionInfo": {
     "elapsed": 25,
     "status": "ok",
     "timestamp": 1753372206609,
     "user": {
      "displayName": "Anh-cs3-8365 Nguyễn Tiến",
      "userId": "07872704871188704138"
     },
     "user_tz": -420
    },
    "id": "4c6997b5",
    "outputId": "691f5e8a-9b43-457a-d1e3-00307e86012a"
   },
   "outputs": [
    {
     "name": "stdout",
     "output_type": "stream",
     "text": [
      "224\n",
      "[0.5, 0.5, 0.5]\n",
      "[0.5, 0.5, 0.5]\n"
     ]
    }
   ],
   "source": [
    "# Kiểm tra các thông số ảnh đầu vào\n",
    "print(image_height)\n",
    "print(image_std)\n",
    "print(image_mean)"
   ]
  },
  {
   "cell_type": "code",
   "execution_count": null,
   "id": "js1WrbCz2UHV",
   "metadata": {
    "colab": {
     "base_uri": "https://localhost:8080/"
    },
    "executionInfo": {
     "elapsed": 2637,
     "status": "ok",
     "timestamp": 1753372209258,
     "user": {
      "displayName": "Anh-cs3-8365 Nguyễn Tiến",
      "userId": "07872704871188704138"
     },
     "user_tz": -420
    },
    "id": "js1WrbCz2UHV",
    "outputId": "d9e72c8c-07ff-4e2f-ae47-93c7d6f2db95"
   },
   "outputs": [
    {
     "name": "stdout",
     "output_type": "stream",
     "text": [
      "Path to dataset files: /kaggle/input/sea-animals-image-dataste\n"
     ]
    }
   ],
   "source": [
    "# Tải dataset từ Kaggle bằng kagglehub\n",
    "import kagglehub\n",
    "\n",
    "# Download latest version\n",
    "path = kagglehub.dataset_download(\"vencerlanz09/sea-animals-image-dataste\")\n",
    "\n",
    "print(\"Path to dataset files:\", path)"
   ]
  },
  {
   "cell_type": "code",
   "execution_count": null,
   "id": "2a63e81f",
   "metadata": {
    "colab": {
     "base_uri": "https://localhost:8080/"
    },
    "executionInfo": {
     "elapsed": 721,
     "status": "ok",
     "timestamp": 1753372209981,
     "user": {
      "displayName": "Anh-cs3-8365 Nguyễn Tiến",
      "userId": "07872704871188704138"
     },
     "user_tz": -420
    },
    "id": "2a63e81f",
    "outputId": "4bc26dd2-9c1e-4174-d53d-2dab932e1362"
   },
   "outputs": [
    {
     "name": "stdout",
     "output_type": "stream",
     "text": [
      "✅ Dataset loaded: 10968 training samples, 2743 validation samples.\n"
     ]
    }
   ],
   "source": [
    "# Định nghĩa transform cho train/test, chia tập train/test, và wrapper cho transform sau khi split\n",
    "import torch\n",
    "from torchvision import transforms, datasets\n",
    "from torch.utils.data import DataLoader\n",
    "\n",
    "# Transform cho tập train\n",
    "train_transform = transforms.Compose([\n",
    "    transforms.RandomResizedCrop((image_height, image_width)),\n",
    "    transforms.RandomHorizontalFlip(),\n",
    "    transforms.ToTensor(),\n",
    "    transforms.Normalize(mean=image_mean, std=image_std),\n",
    "])\n",
    "\n",
    "# Transform cho tập test\n",
    "test_transform = transforms.Compose([\n",
    "    transforms.Resize((image_height, image_width)),\n",
    "    transforms.ToTensor(),\n",
    "    transforms.Normalize(mean=image_mean, std=image_std)\n",
    "])\n",
    "\n",
    "# Đường dẫn dataset\n",
    "data_path = path\n",
    "\n",
    "# Load toàn bộ dataset\n",
    "full_dataset = datasets.ImageFolder(data_path, transform=None)\n",
    "\n",
    "# Chia train/test theo tỉ lệ 80/20\n",
    "train_len = int(0.8 * len(full_dataset))\n",
    "test_len = len(full_dataset) - train_len\n",
    "train_dataset, test_dataset = torch.utils.data.random_split(full_dataset, [train_len, test_len])\n",
    "\n",
    "# Wrapper để áp transform khác nhau sau khi split\n",
    "class TransformDataset(torch.utils.data.Dataset):\n",
    "    def __init__(self, subset, transform):\n",
    "        self.subset = subset\n",
    "        self.transform = transform\n",
    "\n",
    "    def __getitem__(self, index):\n",
    "        x, y = self.subset[index]\n",
    "        if self.transform:\n",
    "            x = self.transform(x)\n",
    "        return x, y\n",
    "\n",
    "    def __len__(self):\n",
    "        return len(self.subset)\n",
    "\n",
    "train_data = TransformDataset(train_dataset, train_transform)\n",
    "test_data = TransformDataset(test_dataset, test_transform)\n",
    "\n",
    "print(f\"✅ Dataset loaded: {len(train_data)} training samples, {len(test_data)} validation samples.\")"
   ]
  },
  {
   "cell_type": "code",
   "execution_count": null,
   "id": "MHFeHfmQ_hRl",
   "metadata": {
    "executionInfo": {
     "elapsed": 17,
     "status": "ok",
     "timestamp": 1753372210019,
     "user": {
      "displayName": "Anh-cs3-8365 Nguyễn Tiến",
      "userId": "07872704871188704138"
     },
     "user_tz": -420
    },
    "id": "MHFeHfmQ_hRl"
   },
   "outputs": [],
   "source": [
    "# Định nghĩa Dataset trả về dict cho HuggingFace Trainer\n",
    "class DictDataset(torch.utils.data.Dataset):\n",
    "    def __init__(self, subset, transform):\n",
    "        self.subset = subset\n",
    "        self.transform = transform\n",
    "\n",
    "    def __getitem__(self, index):\n",
    "        x, y = self.subset[index]\n",
    "        if self.transform:\n",
    "            x = self.transform(x)\n",
    "        return {\n",
    "            \"pixel_values\": x,\n",
    "            \"labels\": y,\n",
    "        }\n",
    "\n",
    "    def __len__(self):\n",
    "        return len(self.subset)\n",
    "\n",
    "train_data = DictDataset(train_dataset, train_transform)\n",
    "test_data = DictDataset(test_dataset, test_transform)"
   ]
  },
  {
   "cell_type": "code",
   "execution_count": null,
   "id": "wQd_DfTi6n3D",
   "metadata": {
    "colab": {
     "base_uri": "https://localhost:8080/"
    },
    "executionInfo": {
     "elapsed": 34,
     "status": "ok",
     "timestamp": 1753372210056,
     "user": {
      "displayName": "Anh-cs3-8365 Nguyễn Tiến",
      "userId": "07872704871188704138"
     },
     "user_tz": -420
    },
    "id": "wQd_DfTi6n3D",
    "outputId": "6852eb70-b285-4012-c4fc-c5360ca3b039"
   },
   "outputs": [
    {
     "name": "stdout",
     "output_type": "stream",
     "text": [
      "🔍 Có 23 lớp: ['Clams', 'Corals', 'Crabs', 'Dolphin', 'Eel', 'Fish', 'Jelly Fish', 'Lobster', 'Nudibranchs', 'Octopus', 'Otter', 'Penguin', 'Puffers', 'Sea Rays', 'Sea Urchins', 'Seahorse', 'Seal', 'Sharks', 'Shrimp', 'Squid', 'Starfish', 'Turtle_Tortoise', 'Whale']\n"
     ]
    }
   ],
   "source": [
    "# Lấy danh sách tên các lớp\n",
    "class_names = full_dataset.classes\n",
    "print(f\"🔍 Có {len(class_names)} lớp: {class_names}\")"
   ]
  },
  {
   "cell_type": "markdown",
   "id": "yaMeDOkQZy9q",
   "metadata": {
    "id": "yaMeDOkQZy9q"
   },
   "source": [
    "### **2. Define The Model**"
   ]
  },
  {
   "cell_type": "code",
   "execution_count": null,
   "id": "56603beb",
   "metadata": {
    "colab": {
     "base_uri": "https://localhost:8080/"
    },
    "executionInfo": {
     "elapsed": 17,
     "status": "ok",
     "timestamp": 1753372210918,
     "user": {
      "displayName": "Anh-cs3-8365 Nguyễn Tiến",
      "userId": "07872704871188704138"
     },
     "user_tz": -420
    },
    "id": "56603beb",
    "outputId": "7136aa6f-5535-4071-f706-e1c13d19324a"
   },
   "outputs": [
    {
     "data": {
      "text/plain": [
       "{0: 'Clams',\n",
       " 1: 'Corals',\n",
       " 2: 'Crabs',\n",
       " 3: 'Dolphin',\n",
       " 4: 'Eel',\n",
       " 5: 'Fish',\n",
       " 6: 'Jelly Fish',\n",
       " 7: 'Lobster',\n",
       " 8: 'Nudibranchs',\n",
       " 9: 'Octopus',\n",
       " 10: 'Otter',\n",
       " 11: 'Penguin',\n",
       " 12: 'Puffers',\n",
       " 13: 'Sea Rays',\n",
       " 14: 'Sea Urchins',\n",
       " 15: 'Seahorse',\n",
       " 16: 'Seal',\n",
       " 17: 'Sharks',\n",
       " 18: 'Shrimp',\n",
       " 19: 'Squid',\n",
       " 20: 'Starfish',\n",
       " 21: 'Turtle_Tortoise',\n",
       " 22: 'Whale'}"
      ]
     },
     "execution_count": 17,
     "metadata": {},
     "output_type": "execute_result"
    }
   ],
   "source": [
    "# Tạo id2label và label2id cho model\n",
    "label_name = class_names\n",
    "\n",
    "id2label = {id:label for id, label in enumerate(label_name)}\n",
    "label2id = {label:id for id,label in id2label.items()}\n",
    "id2label"
   ]
  },
  {
   "cell_type": "code",
   "execution_count": null,
   "id": "74da8405",
   "metadata": {
    "colab": {
     "base_uri": "https://localhost:8080/"
    },
    "executionInfo": {
     "elapsed": 619,
     "status": "ok",
     "timestamp": 1753372245309,
     "user": {
      "displayName": "Anh-cs3-8365 Nguyễn Tiến",
      "userId": "07872704871188704138"
     },
     "user_tz": -420
    },
    "id": "74da8405",
    "outputId": "366c547e-eb02-4f5b-996e-57b135090752"
   },
   "outputs": [
    {
     "name": "stderr",
     "output_type": "stream",
     "text": [
      "Some weights of ViTForImageClassification were not initialized from the model checkpoint at google/vit-base-patch16-224-in21k and are newly initialized: ['classifier.bias', 'classifier.weight']\n",
      "You should probably TRAIN this model on a down-stream task to be able to use it for predictions and inference.\n"
     ]
    }
   ],
   "source": [
    "# Khởi tạo mô hình ViT cho classification với số lớp tương ứng\n",
    "from transformers import ViTForImageClassification\n",
    "\n",
    "model = ViTForImageClassification.from_pretrained('google/vit-base-patch16-224-in21k',\n",
    "                                                  num_labels=len(label_name),\n",
    "                                                  id2label=id2label,\n",
    "                                                  label2id=label2id)"
   ]
  },
  {
   "cell_type": "code",
   "execution_count": null,
   "id": "60801509",
   "metadata": {
    "executionInfo": {
     "elapsed": 19,
     "status": "ok",
     "timestamp": 1753372508799,
     "user": {
      "displayName": "Anh-cs3-8365 Nguyễn Tiến",
      "userId": "07872704871188704138"
     },
     "user_tz": -420
    },
    "id": "60801509"
   },
   "outputs": [],
   "source": [
    "# Thiết lập các tham số huấn luyện cho Trainer\n",
    "from transformers import TrainingArguments, Trainer\n",
    "\n",
    "metric_name = \"accuracy\"\n",
    "\n",
    "args = TrainingArguments(\n",
    "    output_dir = \"our_dir\",\n",
    "    save_strategy=\"epoch\",\n",
    "    eval_strategy=\"epoch\",\n",
    "    learning_rate=2e-5,\n",
    "    per_device_train_batch_size=64,\n",
    "    per_device_eval_batch_size=64,\n",
    "    num_train_epochs=7,\n",
    "    weight_decay=0.01,\n",
    "    load_best_model_at_end=True,\n",
    "    metric_for_best_model=metric_name,\n",
    "    logging_dir='logs',\n",
    "    logging_steps=10,\n",
    "    logging_strategy=\"steps\",\n",
    "    remove_unused_columns=False,\n",
    ")"
   ]
  },
  {
   "cell_type": "code",
   "execution_count": null,
   "id": "ca9eeb03",
   "metadata": {
    "colab": {
     "base_uri": "https://localhost:8080/",
     "height": 104,
     "referenced_widgets": [
      "9b72af139dfd4654bafe057fe29b55fc",
      "28aaf918be06484caf466705c8710ae4",
      "cbc4fac47b884b4e9b713e811fd91f36",
      "067f71d7d44745ae8aa7414906f08ae7",
      "ba82823202e54d7a80f11cd0c942afe6",
      "113ea10b94ba43c49113710c5b23f664",
      "5673aac2abd049caad2257c541b9be88",
      "edc37fa7bf0e4aad9682b05a143c1e73",
      "a5dc3bf51aff448ab0260035d97f15a4",
      "10efae526ab9464bae5df1bab441de92",
      "2e3e986a1dd44b5a8e94bdd218212552"
     ]
    },
    "executionInfo": {
     "elapsed": 2167,
     "status": "ok",
     "timestamp": 1753372514227,
     "user": {
      "displayName": "Anh-cs3-8365 Nguyễn Tiến",
      "userId": "07872704871188704138"
     },
     "user_tz": -420
    },
    "id": "ca9eeb03",
    "outputId": "270baf11-1e19-47d0-f2c3-7f7f44c54e99"
   },
   "outputs": [
    {
     "name": "stderr",
     "output_type": "stream",
     "text": [
      "/tmp/ipython-input-22-1052707893.py:4: FutureWarning: load_metric is deprecated and will be removed in the next major version of datasets. Use 'evaluate.load' instead, from the new library 🤗 Evaluate: https://huggingface.co/docs/evaluate\n",
      "  metric = load_metric(\"accuracy\")\n"
     ]
    },
    {
     "data": {
      "application/vnd.jupyter.widget-view+json": {
       "model_id": "9b72af139dfd4654bafe057fe29b55fc",
       "version_major": 2,
       "version_minor": 0
      },
      "text/plain": [
       "Downloading builder script:   0%|          | 0.00/1.65k [00:00<?, ?B/s]"
      ]
     },
     "metadata": {},
     "output_type": "display_data"
    }
   ],
   "source": [
    "# Định nghĩa hàm tính metric cho Trainer\n",
    "from datasets import load_metric\n",
    "import numpy as np\n",
    "\n",
    "metric = load_metric(\"accuracy\")\n",
    "\n",
    "def compute_metrics(eval_pred):\n",
    "    predictions, labels = eval_pred\n",
    "    predictions = np.argmax(predictions, axis=1)\n",
    "    return metric.compute(predictions=predictions, references=labels)"
   ]
  },
  {
   "cell_type": "code",
   "execution_count": null,
   "id": "bb8db7bd",
   "metadata": {
    "colab": {
     "base_uri": "https://localhost:8080/"
    },
    "executionInfo": {
     "elapsed": 2401,
     "status": "ok",
     "timestamp": 1753372521608,
     "user": {
      "displayName": "Anh-cs3-8365 Nguyễn Tiến",
      "userId": "07872704871188704138"
     },
     "user_tz": -420
    },
    "id": "bb8db7bd",
    "outputId": "e6e760f2-82d2-41e2-d9fc-6817fe992c28"
   },
   "outputs": [
    {
     "name": "stderr",
     "output_type": "stream",
     "text": [
      "/tmp/ipython-input-23-3093838278.py:8: FutureWarning: `tokenizer` is deprecated and will be removed in version 5.0.0 for `Trainer.__init__`. Use `processing_class` instead.\n",
      "  trainer = Trainer(\n"
     ]
    }
   ],
   "source": [
    "# Định nghĩa collate_fn và khởi tạo Trainer\n",
    "import torch\n",
    "\n",
    "def collate_fn(examples):\n",
    "    pixel_values = torch.stack([example[\"pixel_values\"] for example in examples])\n",
    "    labels = torch.tensor([example[\"labels\"] for example in examples])\n",
    "    return {\"pixel_values\": pixel_values, \"labels\": labels}\n",
    "\n",
    "trainer = Trainer(\n",
    "    model,\n",
    "    args,\n",
    "    train_dataset=train_data,\n",
    "    eval_dataset=test_data,\n",
    "    data_collator=collate_fn,\n",
    "    compute_metrics=compute_metrics,\n",
    "    tokenizer=feature_extractor,\n",
    ")"
   ]
  },
  {
   "cell_type": "markdown",
   "id": "NUj222y4aDpV",
   "metadata": {
    "id": "NUj222y4aDpV"
   },
   "source": [
    "### **3. Train The Model**"
   ]
  },
  {
   "cell_type": "code",
   "execution_count": null,
   "id": "75e3cfd8",
   "metadata": {
    "colab": {
     "base_uri": "https://localhost:8080/",
     "height": 610
    },
    "executionInfo": {
     "elapsed": 3355789,
     "status": "ok",
     "timestamp": 1753375881099,
     "user": {
      "displayName": "Anh-cs3-8365 Nguyễn Tiến",
      "userId": "07872704871188704138"
     },
     "user_tz": -420
    },
    "id": "75e3cfd8",
    "outputId": "eba5f956-d0c5-43a0-dd94-d99aaadccfee"
   },
   "outputs": [
    {
     "name": "stderr",
     "output_type": "stream",
     "text": [
      "\u001b[34m\u001b[1mwandb\u001b[0m: \u001b[33mWARNING\u001b[0m The `run_name` is currently set to the same value as `TrainingArguments.output_dir`. If this was not intended, please specify a different run name by setting the `TrainingArguments.run_name` parameter.\n"
     ]
    },
    {
     "data": {
      "application/javascript": [
       "\n",
       "        window._wandbApiKey = new Promise((resolve, reject) => {\n",
       "            function loadScript(url) {\n",
       "            return new Promise(function(resolve, reject) {\n",
       "                let newScript = document.createElement(\"script\");\n",
       "                newScript.onerror = reject;\n",
       "                newScript.onload = resolve;\n",
       "                document.body.appendChild(newScript);\n",
       "                newScript.src = url;\n",
       "            });\n",
       "            }\n",
       "            loadScript(\"https://cdn.jsdelivr.net/npm/postmate/build/postmate.min.js\").then(() => {\n",
       "            const iframe = document.createElement('iframe')\n",
       "            iframe.style.cssText = \"width:0;height:0;border:none\"\n",
       "            document.body.appendChild(iframe)\n",
       "            const handshake = new Postmate({\n",
       "                container: iframe,\n",
       "                url: 'https://wandb.ai/authorize'\n",
       "            });\n",
       "            const timeout = setTimeout(() => reject(\"Couldn't auto authenticate\"), 5000)\n",
       "            handshake.then(function(child) {\n",
       "                child.on('authorize', data => {\n",
       "                    clearTimeout(timeout)\n",
       "                    resolve(data)\n",
       "                });\n",
       "            });\n",
       "            })\n",
       "        });\n",
       "    "
      ],
      "text/plain": [
       "<IPython.core.display.Javascript object>"
      ]
     },
     "metadata": {},
     "output_type": "display_data"
    },
    {
     "name": "stderr",
     "output_type": "stream",
     "text": [
      "\u001b[34m\u001b[1mwandb\u001b[0m: Logging into wandb.ai. (Learn how to deploy a W&B server locally: https://wandb.me/wandb-server)\n",
      "\u001b[34m\u001b[1mwandb\u001b[0m: You can find your API key in your browser here: https://wandb.ai/authorize?ref=models\n",
      "wandb: Paste an API key from your profile and hit enter:"
     ]
    },
    {
     "name": "stdout",
     "output_type": "stream",
     "text": [
      " ··········\n"
     ]
    },
    {
     "name": "stderr",
     "output_type": "stream",
     "text": [
      "\u001b[34m\u001b[1mwandb\u001b[0m: \u001b[33mWARNING\u001b[0m If you're specifying your api key in code, ensure this code is not shared publicly.\n",
      "\u001b[34m\u001b[1mwandb\u001b[0m: \u001b[33mWARNING\u001b[0m Consider setting the WANDB_API_KEY environment variable, or running `wandb login` from the command line.\n",
      "\u001b[34m\u001b[1mwandb\u001b[0m: No netrc file found, creating one.\n",
      "\u001b[34m\u001b[1mwandb\u001b[0m: Appending key for api.wandb.ai to your netrc file: /root/.netrc\n",
      "\u001b[34m\u001b[1mwandb\u001b[0m: Currently logged in as: \u001b[33manhnguyentien8365\u001b[0m (\u001b[33manhnguyentien8365-no\u001b[0m) to \u001b[32mhttps://api.wandb.ai\u001b[0m. Use \u001b[1m`wandb login --relogin`\u001b[0m to force relogin\n"
     ]
    },
    {
     "data": {
      "text/html": [
       "Tracking run with wandb version 0.21.0"
      ],
      "text/plain": [
       "<IPython.core.display.HTML object>"
      ]
     },
     "metadata": {},
     "output_type": "display_data"
    },
    {
     "data": {
      "text/html": [
       "Run data is saved locally in <code>/content/wandb/run-20250724_155543-hx1ewuzv</code>"
      ],
      "text/plain": [
       "<IPython.core.display.HTML object>"
      ]
     },
     "metadata": {},
     "output_type": "display_data"
    },
    {
     "data": {
      "text/html": [
       "Syncing run <strong><a href='https://wandb.ai/anhnguyentien8365-no/huggingface/runs/hx1ewuzv' target=\"_blank\">our_dir</a></strong> to <a href='https://wandb.ai/anhnguyentien8365-no/huggingface' target=\"_blank\">Weights & Biases</a> (<a href='https://wandb.me/developer-guide' target=\"_blank\">docs</a>)<br>"
      ],
      "text/plain": [
       "<IPython.core.display.HTML object>"
      ]
     },
     "metadata": {},
     "output_type": "display_data"
    },
    {
     "data": {
      "text/html": [
       " View project at <a href='https://wandb.ai/anhnguyentien8365-no/huggingface' target=\"_blank\">https://wandb.ai/anhnguyentien8365-no/huggingface</a>"
      ],
      "text/plain": [
       "<IPython.core.display.HTML object>"
      ]
     },
     "metadata": {},
     "output_type": "display_data"
    },
    {
     "data": {
      "text/html": [
       " View run at <a href='https://wandb.ai/anhnguyentien8365-no/huggingface/runs/hx1ewuzv' target=\"_blank\">https://wandb.ai/anhnguyentien8365-no/huggingface/runs/hx1ewuzv</a>"
      ],
      "text/plain": [
       "<IPython.core.display.HTML object>"
      ]
     },
     "metadata": {},
     "output_type": "display_data"
    },
    {
     "data": {
      "text/html": [
       "\n",
       "    <div>\n",
       "      \n",
       "      <progress value='1204' max='1204' style='width:300px; height:20px; vertical-align: middle;'></progress>\n",
       "      [1204/1204 55:34, Epoch 7/7]\n",
       "    </div>\n",
       "    <table border=\"1\" class=\"dataframe\">\n",
       "  <thead>\n",
       " <tr style=\"text-align: left;\">\n",
       "      <th>Epoch</th>\n",
       "      <th>Training Loss</th>\n",
       "      <th>Validation Loss</th>\n",
       "      <th>Accuracy</th>\n",
       "    </tr>\n",
       "  </thead>\n",
       "  <tbody>\n",
       "    <tr>\n",
       "      <td>1</td>\n",
       "      <td>2.038000</td>\n",
       "      <td>1.971985</td>\n",
       "      <td>0.766679</td>\n",
       "    </tr>\n",
       "    <tr>\n",
       "      <td>2</td>\n",
       "      <td>1.467500</td>\n",
       "      <td>1.426745</td>\n",
       "      <td>0.853081</td>\n",
       "    </tr>\n",
       "    <tr>\n",
       "      <td>3</td>\n",
       "      <td>1.214000</td>\n",
       "      <td>1.162364</td>\n",
       "      <td>0.865476</td>\n",
       "    </tr>\n",
       "    <tr>\n",
       "      <td>4</td>\n",
       "      <td>1.040900</td>\n",
       "      <td>1.009072</td>\n",
       "      <td>0.880058</td>\n",
       "    </tr>\n",
       "    <tr>\n",
       "      <td>5</td>\n",
       "      <td>0.916400</td>\n",
       "      <td>0.915740</td>\n",
       "      <td>0.888079</td>\n",
       "    </tr>\n",
       "    <tr>\n",
       "      <td>6</td>\n",
       "      <td>0.846500</td>\n",
       "      <td>0.871305</td>\n",
       "      <td>0.892818</td>\n",
       "    </tr>\n",
       "    <tr>\n",
       "      <td>7</td>\n",
       "      <td>0.890800</td>\n",
       "      <td>0.855684</td>\n",
       "      <td>0.890995</td>\n",
       "    </tr>\n",
       "  </tbody>\n",
       "</table><p>"
      ],
      "text/plain": [
       "<IPython.core.display.HTML object>"
      ]
     },
     "metadata": {},
     "output_type": "display_data"
    },
    {
     "data": {
      "text/plain": [
       "TrainOutput(global_step=1204, training_loss=1.3352509538992694, metrics={'train_runtime': 3355.7975, 'train_samples_per_second': 22.879, 'train_steps_per_second': 0.359, 'total_flos': 5.950644792574132e+18, 'train_loss': 1.3352509538992694, 'epoch': 7.0})"
      ]
     },
     "execution_count": 24,
     "metadata": {},
     "output_type": "execute_result"
    }
   ],
   "source": [
    "# Huấn luyện mô hình\n",
    "trainer.train()"
   ]
  },
  {
   "cell_type": "code",
   "execution_count": null,
   "id": "rQfkkDJyWxMq",
   "metadata": {
    "colab": {
     "base_uri": "https://localhost:8080/"
    },
    "executionInfo": {
     "elapsed": 1383,
     "status": "ok",
     "timestamp": 1753376179701,
     "user": {
      "displayName": "Anh-cs3-8365 Nguyễn Tiến",
      "userId": "07872704871188704138"
     },
     "user_tz": -420
    },
    "id": "rQfkkDJyWxMq",
    "outputId": "afc323f4-e64a-41bd-f838-7212d78d53a6"
   },
   "outputs": [
    {
     "name": "stdout",
     "output_type": "stream",
     "text": [
      "Model saved successfully!\n"
     ]
    }
   ],
   "source": [
    "# Lưu mô hình đã huấn luyện (đường dẫn này dành cho Colab/Google Drive)\n",
    "trainer.save_model(\"/content/drive/MyDrive/ViT_Pretrained/sea_animal_cls_model_pth\")\n",
    "print(\"Model saved successfully!\")"
   ]
  },
  {
   "cell_type": "markdown",
   "id": "WenNyQiUaOKD",
   "metadata": {
    "id": "WenNyQiUaOKD"
   },
   "source": [
    "### **4. Evaluation**"
   ]
  },
  {
   "cell_type": "code",
   "execution_count": null,
   "id": "a5f92f77",
   "metadata": {
    "colab": {
     "base_uri": "https://localhost:8080/",
     "height": 17
    },
    "executionInfo": {
     "elapsed": 43885,
     "status": "ok",
     "timestamp": 1753375955727,
     "user": {
      "displayName": "Anh-cs3-8365 Nguyễn Tiến",
      "userId": "07872704871188704138"
     },
     "user_tz": -420
    },
    "id": "a5f92f77",
    "outputId": "7381dd40-ed40-4daf-efc8-b93ab073908d"
   },
   "outputs": [
    {
     "data": {
      "text/html": [],
      "text/plain": [
       "<IPython.core.display.HTML object>"
      ]
     },
     "metadata": {},
     "output_type": "display_data"
    }
   ],
   "source": [
    "# Đánh giá mô hình trên tập test\n",
    "outputs = trainer.predict(test_data)"
   ]
  },
  {
   "cell_type": "code",
   "execution_count": null,
   "id": "ce4c034b",
   "metadata": {
    "colab": {
     "base_uri": "https://localhost:8080/"
    },
    "executionInfo": {
     "elapsed": 19,
     "status": "ok",
     "timestamp": 1753375959679,
     "user": {
      "displayName": "Anh-cs3-8365 Nguyễn Tiến",
      "userId": "07872704871188704138"
     },
     "user_tz": -420
    },
    "id": "ce4c034b",
    "outputId": "cbe76488-ff7c-44f8-8a79-fb9ef9cb937b"
   },
   "outputs": [
    {
     "name": "stdout",
     "output_type": "stream",
     "text": [
      "{'test_loss': 0.8713050484657288, 'test_accuracy': 0.8928180823915421, 'test_runtime': 43.8783, 'test_samples_per_second': 62.514, 'test_steps_per_second': 0.98}\n"
     ]
    }
   ],
   "source": [
    "# In ra các metric đánh giá\n",
    "print(outputs.metrics)"
   ]
  },
  {
   "cell_type": "markdown",
   "id": "P1E3mw8xaU3p",
   "metadata": {
    "id": "P1E3mw8xaU3p"
   },
   "source": [
    "### **6. Load and test the Model**"
   ]
  },
  {
   "cell_type": "code",
   "execution_count": null,
   "id": "c57e95d0",
   "metadata": {
    "colab": {
     "base_uri": "https://localhost:8080/",
     "height": 446
    },
    "executionInfo": {
     "elapsed": 826,
     "status": "ok",
     "timestamp": 1753376722077,
     "user": {
      "displayName": "Anh-cs3-8365 Nguyễn Tiến",
      "userId": "07872704871188704138"
     },
     "user_tz": -420
    },
    "id": "c57e95d0",
    "outputId": "0add9df3-94ea-4659-96b0-495a8e458174"
   },
   "outputs": [
    {
     "data": {
      "image/png": "[encoded data removed]",
      "text/plain": [
       "<Figure size 640x480 with 1 Axes>"
      ]
     },
     "metadata": {},
     "output_type": "display_data"
    },
    {
     "name": "stdout",
     "output_type": "stream",
     "text": [
      "✅ Predicted class: Seahorse\n"
     ]
    }
   ],
   "source": [
    "# Load và kiểm tra mô hình với ảnh mới\n",
    "from PIL import Image\n",
    "import torch\n",
    "from transformers import ViTFeatureExtractor, ViTForImageClassification\n",
    "import matplotlib.pyplot as plt\n",
    "\n",
    "image_path = '/content/drive/MyDrive/ViT_Pretrained/test_ViT_img.png'\n",
    "image = Image.open(image_path).convert(\"RGB\")\n",
    "\n",
    "# Hiển thị ảnh\n",
    "plt.imshow(image)\n",
    "plt.axis(\"off\")\n",
    "plt.title(\"Ảnh kiểm tra ViT\")\n",
    "plt.show()\n",
    "\n",
    "# Device\n",
    "device = torch.device(\"cuda\" if torch.cuda.is_available() else \"cpu\")\n",
    "\n",
    "# Load feature extractor\n",
    "feature_extractor = ViTFeatureExtractor.from_pretrained(\"/content/drive/MyDrive/ViT_Pretrained/sea_animal_cls_model_pth\")\n",
    "\n",
    "# Preprocess ảnh\n",
    "inputs = feature_extractor(images=image, return_tensors=\"pt\")\n",
    "sample_image = inputs[\"pixel_values\"].to(device)  # shape: [1, 3, 224, 224]\n",
    "\n",
    "# Load model\n",
    "model_path = \"/content/drive/MyDrive/ViT_Pretrained/sea_animal_cls_model_pth\"\n",
    "loaded_model = ViTForImageClassification.from_pretrained(model_path)\n",
    "loaded_model.to(device)\n",
    "loaded_model.eval()\n",
    "\n",
    "# Predict\n",
    "with torch.no_grad():\n",
    "    outputs = loaded_model(sample_image)\n",
    "    predicted_class_id = outputs.logits.argmax(-1).item()\n",
    "\n",
    "# Lấy id2label từ model config\n",
    "id2label = loaded_model.config.id2label\n",
    "\n",
    "# Hiển thị kết quả\n",
    "predicted_class_name = id2label[predicted_class_id]\n",
    "print(f\"✅ Predicted class: {predicted_class_name}\")\n",
    "\n",
    "# Sample_label:\n",
    "# sample_label = <int>\n",
    "# true_class_name = id2label[sample_label]\n",
    "# print(f\"✅ True class: {true_class_name}\")"
   ]
  },
  {
   "cell_type": "code",
   "execution_count": null,
   "id": "78371ac4",
   "metadata": {
    "colab": {
     "base_uri": "https://localhost:8080/"
    },
    "executionInfo": {
     "elapsed": 148,
     "status": "ok",
     "timestamp": 1753372033562,
     "user": {
      "displayName": "Anh-cs3-8365 Nguyễn Tiến",
      "userId": "07872704871188704138"
     },
     "user_tz": -420
    },
    "id": "78371ac4",
    "outputId": "ccdab177-4cd3-439a-fa8c-ea34040d5231"
   },
   "outputs": [
    {
     "name": "stdout",
     "output_type": "stream",
     "text": [
      "CUDA cache has been cleared.\n"
     ]
    }
   ],
   "source": [
    "# Giải phóng bộ nhớ GPU (nếu dùng CUDA)\n",
    "import torch\n",
    "\n",
    "if torch.cuda.is_available():\n",
    "    torch.cuda.empty_cache()\n",
    "    print(\"CUDA cache has been cleared.\")\n",
    "else:\n",
    "    print(\"CUDA is not available.\")"
   ]
  }
 ],
 "metadata": {
  "accelerator": "GPU",
  "colab": {
   "gpuType": "T4",
   "provenance": []
  },
  "kernelspec": {
   "display_name": "Python 3",
   "name": "python3"
  },
  "language_info": {
   "name": "python"
  }
 },
 "nbformat": 4,
 "nbformat_minor": 5
}
